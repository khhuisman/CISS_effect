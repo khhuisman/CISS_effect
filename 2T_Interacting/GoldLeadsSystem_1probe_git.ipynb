{
 "cells": [
  {
   "cell_type": "markdown",
   "metadata": {},
   "source": [
    "# General system and one Buttiker lead added."
   ]
  },
  {
   "cell_type": "code",
   "execution_count": 27,
   "metadata": {},
   "outputs": [],
   "source": [
    "import kwant\n",
    "import math\n",
    "import cmath\n",
    "from matplotlib import pyplot as plt\n",
    "import numpy as np\n",
    "import tinyarray\n",
    "\n",
    "\n",
    "from scipy import optimize\n",
    "import scipy\n",
    "import time\n",
    "sigma_0 = tinyarray.array([[1, 0], [0, 1]])\n",
    "sigma_x = tinyarray.array([[0, 1], [1, 0]])\n",
    "sigma_y = tinyarray.array([[0, -1j], [1j, 0]])\n",
    "sigma_z = tinyarray.array([[1, 0], [0, -1]])"
   ]
  },
  {
   "cell_type": "code",
   "execution_count": 2,
   "metadata": {},
   "outputs": [],
   "source": [
    "import sys\n",
    "sys.path.insert(0, 'path_to_modules')"
   ]
  },
  {
   "cell_type": "code",
   "execution_count": 29,
   "metadata": {},
   "outputs": [],
   "source": [
    "def list_tag_transmission_functions(nleads,systf,emin,emax,de):\n",
    "    \"\"\" Input: \n",
    "            - finalized kwant system (systf) with nleads attached\n",
    "            - energy window: [emin,emax,de] on which the transmission are calculated.  \n",
    "        Ouput:  \n",
    "            - 2 Lists of transmissions from lead i to j (Tij) and j to i (Tji)  where i != j:\n",
    "                * One list for the + magnetization and one for the opposite - magnetization\n",
    "                * IMPORTANT: Buttiker reciproical relations are used here: Tij(m) = Tji(-m)!\n",
    "            - tag_list_ij,tag_list_ji are explicit labels for the calculated transmission \n",
    "                (to keep track of what transmission is calculted )\"\"\"\n",
    "    \n",
    "\n",
    "    list_transmissions_P = []\n",
    "    list_transmissions_M = []\n",
    "\n",
    "    for lead_i in range(nleads):\n",
    "        energies, Tij_list_i,tag_list_ij_i  = CalculateCurrentN.Tij(systf,lead_i =lead_i,n_leads=nleads,\n",
    "                                                  emin=emin,emax=emax, de=de,\n",
    "                                                  plot_var=False,check_hermiticity=True)\n",
    "\n",
    "        energies, Tji_list_i,tag_list_ji_i   = CalculateCurrentN.Tji(systf,lead_i =lead_i,n_leads=nleads,\n",
    "                                                  emin=emin,emax=emax, de=de,\n",
    "                                                  plot_var=False,check_hermiticity=True)\n",
    "\n",
    "\n",
    "\n",
    "        list_transmissions_P.append([ Tij_list_i,tag_list_ij_i, Tji_list_i,tag_list_ji_i ])\n",
    "        \n",
    "        # Using the Buttiker reciprocity relations\n",
    "        list_transmissions_M.append([ Tji_list_i,tag_list_ij_i, Tij_list_i,tag_list_ji_i ])\n",
    "        \n",
    "    return energies,list_transmissions_P,list_transmissions_M "
   ]
  },
  {
   "cell_type": "code",
   "execution_count": 30,
   "metadata": {},
   "outputs": [],
   "source": [
    "def overlap_two_lists(list1,list2):\n",
    "    \"Returns the overlapping elements of list1 and list2\"\n",
    "    joinedlist = sorted(list(set(list1+list2)) )\n",
    "    overlap_list = []\n",
    "\n",
    "    for element in joinedlist:\n",
    "\n",
    "        if element in list1 and element in list2:\n",
    "            overlap_list.append(element)\n",
    "            \n",
    "            \n",
    "    return overlap_list\n",
    "\n",
    "\n",
    "def index_list_adjusted(IP_list_2,IM_list_2,V_list,nacc=7,plot_current=True):\n",
    "    \n",
    "    \"\"\" Input: - Buttiker probe currents for plus/minus magnetization \n",
    "              - list of voltages V_list,\n",
    "              - accuracy for convergence \n",
    "       Ouput: - List of voltages for which both Buttiker currents converged, the default accuracy is 10**-7.\n",
    "              - List of indices corresponding to returned voltage list.\"\"\"\n",
    "    \n",
    "    if plot_current == True:\n",
    "        plt.plot(V_list,IM_list_2,label = 'IB(-m)')\n",
    "        plt.plot(V_list,IP_list_2,label = 'IB(+m)')\n",
    "        plt.legend()\n",
    "        plt.xlabel('Voltage ')\n",
    "        plt.ylabel('Charge Current ')\n",
    "\n",
    "\n",
    "\n",
    "\n",
    "        plt.show()\n",
    "    \n",
    "    index_list_p = []\n",
    "    index_list_m = []\n",
    "    \n",
    "    \n",
    "    # Values in IM_list_2,IP_list_2 that are to large (current IB did not converge ) are ignored\n",
    "    # corresponding voltage are added to a list\n",
    "    for i in range(len(IM_list_2)):\n",
    "        \n",
    "        IBm = np.round(IM_list_2[i],nacc)\n",
    "        \n",
    "        if IBm == 0:\n",
    "            index_list_m.append(i)\n",
    "\n",
    "        if IBm != 0:\n",
    "            print(i,V_list[i],IM_list_2[i])\n",
    "            \n",
    "    for i in range(len(IP_list_2)):\n",
    "        IBp = np.round(IP_list_2[i],nacc) \n",
    "        if IBp == 0:\n",
    "            index_list_p.append(i)\n",
    "\n",
    "        if IBp != 0:\n",
    "            print(i,V_list[i],IP_list_2[i])\n",
    "            \n",
    "            \n",
    "    # Find the overlapping set\n",
    "    overlap_list = overlap_two_lists(index_list_p,index_list_m)\n",
    "    \n",
    "    V_list_adjusted = [ V_list[i] for i in overlap_list]\n",
    "    \n",
    "    return overlap_list, V_list_adjusted\n"
   ]
  },
  {
   "cell_type": "code",
   "execution_count": 31,
   "metadata": {},
   "outputs": [],
   "source": [
    "\n",
    "def calc_MR_list(IP_list_0,IM_list_0,V_list,n=16):\n",
    "    \n",
    "    \"\"\"Input: Currents into left lead for plus/minus magnetization of the lead, for the voltages in V_list.\\\n",
    "       Ouput: MR for the voltages in V_list\"\"\"\n",
    "    #At V = 0 we must have I(m) + I(-m) = 0\n",
    "    # numerical errors often lead to:  I(m) +I(-m) = 10**-12, \n",
    "    # which leads to division of a small number in the MR.\n",
    "    # therefore it necessary to round I(m) +I(-m) to 'n' digits.\n",
    "\n",
    "\n",
    " \n",
    "    #Calculate MR\"\n",
    "    MR_list = []\n",
    "\n",
    "    for k in range(len(V_list)):\n",
    "        V = V_list[k]\n",
    "        ILm = IM_list_0[k]\n",
    "        ILp = IP_list_0[k]\n",
    "\n",
    "        T = ILp + ILm\n",
    "        \n",
    "        \n",
    "        if np.round(T,n) == 0:\n",
    "            MR_list.append(0)\n",
    "        if np.round(T,n) != 0:\n",
    "\n",
    "            P = 100*(ILp - ILm)/T\n",
    "\n",
    "\n",
    "            MR_list.append(P)\n",
    "            \n",
    "    return MR_list"
   ]
  },
  {
   "cell_type": "markdown",
   "metadata": {},
   "source": [
    "#### Plot functions "
   ]
  },
  {
   "cell_type": "code",
   "execution_count": 32,
   "metadata": {},
   "outputs": [],
   "source": [
    "import PlotFunctions"
   ]
  },
  {
   "cell_type": "markdown",
   "metadata": {},
   "source": [
    "### Test system"
   ]
  },
  {
   "cell_type": "code",
   "execution_count": 34,
   "metadata": {},
   "outputs": [],
   "source": [
    "import GoldLeadsSystem_1Probe"
   ]
  },
  {
   "cell_type": "code",
   "execution_count": 35,
   "metadata": {},
   "outputs": [],
   "source": [
    "def make_system(B=1, u0 = -5.3,t0 =50,\n",
    "                     nlayers = 3, xi_d = 0.6, xi_p = 0.006,\n",
    "                    Txz = 3,Tyz = 3,d_L= 50,\n",
    "                    txz_left_1=1,tyz_left_1=0,\n",
    "                    txz_left_2=1,tyz_left_2=1,\n",
    "                    txz_left_3=0,tyz_left_3=1,\n",
    "                    plot_left = False,\n",
    "                    txz_right_1=1,tyz_right_1=0, \n",
    "                    txz_right_2=1,tyz_right_2=1,\n",
    "                    txz_right_3=0,tyz_right_3=1,\n",
    "                    plot_right = False,\n",
    "                    nrings =6 ,tvec=3,E_z=0,r=1.4,zstart=0,b=3.6,\n",
    "                    chirality_left=True,\n",
    "                    u=-18+9.9 ,delta_e=-12.6,Es=-6.21,I=2,M=1,E1=0,E2=0\n",
    "                     ):\n",
    "    \n",
    "    system = GoldLeadsSystem_1Probe.make_system_toy_1B(nlayers, xi_d,xi_p,\n",
    "                Txz,Tyz, d_L,\n",
    "                 txz_left_1,tyz_left_1,\n",
    "                txz_left_2,tyz_left_2,\n",
    "                txz_left_3,tyz_left_3,\n",
    "                plot_left,\n",
    "                txz_right_1,tyz_right_1, \n",
    "                txz_right_2,tyz_right_2,\n",
    "                txz_right_3,tyz_right_3,\n",
    "                plot_right,\n",
    "                nrings ,tvec,E_z,r,zstart,b,\n",
    "                chirality_left,\n",
    "                u,delta_e,Es,\n",
    "                B,u0,t0,I,M,E1,E2)\n",
    "    \n",
    "    \n",
    "    \n",
    "    systemf = system.finalized()\n",
    "    return systemf\n",
    "    \n",
    "  "
   ]
  },
  {
   "cell_type": "code",
   "execution_count": 36,
   "metadata": {},
   "outputs": [
    {
     "data": {
      "image/png": "[encoded data removed]",
      "text/plain": [
       "<Figure size 432x288 with 1 Axes>"
      ]
     },
     "metadata": {
      "needs_background": "light"
     },
     "output_type": "display_data"
    }
   ],
   "source": [
    "\n",
    "syst_Sgeom = make_system(I=1,M=0,E1=0,E2=1)\n",
    "kwant.plot(syst_Sgeom,site_size=0.1,hop_lw=0.1);\n"
   ]
  },
  {
   "cell_type": "markdown",
   "metadata": {},
   "source": [
    "# Formulas for calculating currents"
   ]
  },
  {
   "cell_type": "code",
   "execution_count": 37,
   "metadata": {},
   "outputs": [],
   "source": [
    "import CalculateCurrentN"
   ]
  },
  {
   "cell_type": "markdown",
   "metadata": {},
   "source": [
    "# Define Systems"
   ]
  },
  {
   "cell_type": "markdown",
   "metadata": {},
   "source": [
    "#### Set system parameters"
   ]
  },
  {
   "cell_type": "code",
   "execution_count": 38,
   "metadata": {},
   "outputs": [],
   "source": [
    "# chirality_left:\n",
    "# True = M-helicene\n",
    "# False = P-helicene"
   ]
  },
  {
   "cell_type": "code",
   "execution_count": 39,
   "metadata": {},
   "outputs": [],
   "source": [
    "B,t0,u0 = 1,50,-5.3\n",
    "attpos , attposM  ,attposE1 , attposE2 = 2,1,0,0"
   ]
  },
  {
   "cell_type": "code",
   "execution_count": 40,
   "metadata": {},
   "outputs": [
    {
     "data": {
      "image/png": "[encoded data removed]",
      "text/plain": [
       "<Figure size 432x288 with 1 Axes>"
      ]
     },
     "metadata": {
      "needs_background": "light"
     },
     "output_type": "display_data"
    },
    {
     "data": {
      "image/png": "[encoded data removed]",
      "text/plain": [
       "<Figure size 432x288 with 1 Axes>"
      ]
     },
     "metadata": {
      "needs_background": "light"
     },
     "output_type": "display_data"
    }
   ],
   "source": [
    "# total number of leads = L,R lead + \"# Buttiker Probes\"\n",
    "nleads = 2+1 \n",
    "\n",
    "\n",
    "#System with positive Magnetization\n",
    "syst_Sgeom_P = make_system(B= abs(B),t0=t0,u0=u0,I=attpos ,\n",
    "                           M =attposM  ,E1=attposE1 , E2=attposE2)\n",
    "kwant.plot(syst_Sgeom_P,site_size=0.1,hop_lw=0.1);\n",
    "\n",
    "#System with negative Magnetization\n",
    "syst_Sgeom_M = make_system(B= -abs(B),t0=t0,u0=u0,I=attpos,\n",
    "                           M =attposM  ,E1=attposE1 , E2=attposE2)\n",
    "kwant.plot(syst_Sgeom_M,site_size=0.1,hop_lw=0.1);"
   ]
  },
  {
   "cell_type": "markdown",
   "metadata": {},
   "source": [
    "# Set lower,lower bound"
   ]
  },
  {
   "cell_type": "code",
   "execution_count": 41,
   "metadata": {},
   "outputs": [
    {
     "name": "stdout",
     "output_type": "stream",
     "text": [
      "-5.859999999999999 -4.74 0.012\n"
     ]
    }
   ],
   "source": [
    "# fix voltage and fermi energy\n",
    "ef     = -5.3\n",
    "Vmax   = 1.12\n",
    "V_list = np.linspace(0,Vmax,10) \n",
    "\n",
    "\n",
    "\n",
    "# energies in the bias window\n",
    "de =0.012\n",
    "emin, emax = ef - Vmax/2 , ef + Vmax/2\n",
    "print(emin,emax,de)"
   ]
  },
  {
   "cell_type": "markdown",
   "metadata": {},
   "source": [
    "# Calculate transmissions"
   ]
  },
  {
   "cell_type": "markdown",
   "metadata": {},
   "source": [
    "# $T_{ij}(m), T_{ji}(m)$"
   ]
  },
  {
   "cell_type": "code",
   "execution_count": 42,
   "metadata": {},
   "outputs": [],
   "source": [
    "energies,list_tags_transmissions_P,list_tags_transmissions_M =  list_tag_transmission_functions(nleads=nleads,\n",
    "                                                                                                systf=syst_Sgeom_P,\n",
    "                                                                                      emin=emin,emax=emax,de=de)"
   ]
  },
  {
   "cell_type": "markdown",
   "metadata": {},
   "source": [
    "# Plot Transmissions"
   ]
  },
  {
   "cell_type": "markdown",
   "metadata": {},
   "source": [
    "# $T_{ij}(m), T_{ji}(m)$"
   ]
  },
  {
   "cell_type": "code",
   "execution_count": 43,
   "metadata": {},
   "outputs": [
    {
     "data": {
      "image/png": "[encoded data removed]",
      "text/plain": [
       "<Figure size 432x288 with 1 Axes>"
      ]
     },
     "metadata": {
      "needs_background": "light"
     },
     "output_type": "display_data"
    }
   ],
   "source": [
    "CalculateCurrentN.plot_transmission_i(0,list_tags_transmissions_P,energies)"
   ]
  },
  {
   "cell_type": "code",
   "execution_count": 44,
   "metadata": {},
   "outputs": [
    {
     "data": {
      "image/png": "[encoded data removed]",
      "text/plain": [
       "<Figure size 432x288 with 1 Axes>"
      ]
     },
     "metadata": {
      "needs_background": "light"
     },
     "output_type": "display_data"
    }
   ],
   "source": [
    "CalculateCurrentN.plot_transmission_i(1,list_tags_transmissions_P,energies)"
   ]
  },
  {
   "cell_type": "code",
   "execution_count": 45,
   "metadata": {},
   "outputs": [
    {
     "data": {
      "image/png": "[encoded data removed]",
      "text/plain": [
       "<Figure size 432x288 with 1 Axes>"
      ]
     },
     "metadata": {
      "needs_background": "light"
     },
     "output_type": "display_data"
    }
   ],
   "source": [
    "CalculateCurrentN.plot_transmission_i(2,list_tags_transmissions_P,energies)"
   ]
  },
  {
   "cell_type": "markdown",
   "metadata": {},
   "source": [
    "## Root Finding: positive magnetization"
   ]
  },
  {
   "cell_type": "markdown",
   "metadata": {},
   "source": [
    "### $\\mu_B(m)$"
   ]
  },
  {
   "cell_type": "code",
   "execution_count": 46,
   "metadata": {},
   "outputs": [],
   "source": [
    "# muB(m) is a voltage dependent quantity.\n",
    "# muB(m) is the chemical potential of Buttiker probe for positive volatges."
   ]
  },
  {
   "cell_type": "code",
   "execution_count": 47,
   "metadata": {
    "scrolled": true
   },
   "outputs": [
    {
     "name": "stdout",
     "output_type": "stream",
     "text": [
      "--- V = 0.0 --- \n",
      "[-2.886579864025407e-14]\n",
      "[-2.886579864025407e-14]\n",
      "[-2.886579864025407e-14]\n",
      "[2.0905283815153552e-07]\n",
      "[-0.0105736766213127]\n",
      "--- mu2,mu3,... =[-5.3]\n",
      "--- V = 0.12444444444444445 --- \n",
      "[0.027235921475581737]\n",
      "[0.027235921475581737]\n",
      "[0.027235921475581737]\n",
      "[0.027236130528448754]\n",
      "[0.0002982435609180101]\n",
      "[-2.0391249346385365e-05]\n",
      "[2.6829222377067197e-07]\n",
      "[3.2579450248704234e-10]\n",
      "[-5.329070518200751e-15]\n",
      "[-1.1102230246251565e-15]\n",
      "--- mu2,mu3,... =[-5.31039593]\n",
      "--- V = 0.2488888888888889 --- \n",
      "[0.06726971214002697]\n",
      "[0.06726971214002697]\n",
      "[0.06726971214002697]\n",
      "[0.06726992119289399]\n",
      "[0.0006550892243197826]\n",
      "[-3.053206502157124e-05]\n",
      "[2.0641290232603637e-08]\n",
      "[6.530331830845171e-13]\n",
      "[4.440892098500626e-16]\n",
      "[4.440892098500626e-16]\n",
      "[6.530331830845171e-13]\n",
      "[2.178545124298381e-07]\n",
      "[4.440892098500626e-16]\n",
      "--- mu2,mu3,... =[-5.325652]\n",
      "--- V = 0.37333333333333335 --- \n",
      "[0.08754895863181344]\n",
      "[0.08754895863181344]\n",
      "[0.08754895863181344]\n",
      "[0.08754916768468046]\n",
      "[-0.000610751748974625]\n",
      "[5.234181884428146e-05]\n",
      "[4.2697775981537234e-08]\n",
      "[-2.992273095969722e-12]\n",
      "[-2.220446049250313e-16]\n",
      "[-2.220446049250313e-16]\n",
      "[-2.992273095969722e-12]\n",
      "[2.2979779745746498e-07]\n",
      "[-2.220446049250313e-16]\n",
      "[-6.863398738232718e-13]\n",
      "[-2.220446049250313e-16]\n",
      "--- mu2,mu3,... =[-5.33286328]\n",
      "--- V = 0.4977777777777778 --- \n",
      "[0.0955650742439127]\n",
      "[0.0955650742439127]\n",
      "[0.0955650742439127]\n",
      "[0.09556528329677971]\n",
      "[-0.0014715932829660883]\n",
      "[0.0001493540274222216]\n",
      "[3.046413576957008e-07]\n",
      "[-6.297984356251618e-11]\n",
      "[6.661338147750939e-16]\n",
      "[6.661338147750939e-16]\n",
      "[6.297695698265215e-11]\n",
      "[2.3495507250892445e-07]\n",
      "[6.661338147750939e-16]\n",
      "[1.4101830814183813e-11]\n",
      "[6.661338147750939e-16]\n",
      "[3.524291969370097e-12]\n",
      "[6.661338147750939e-16]\n",
      "[8.804068585277491e-13]\n",
      "[6.661338147750939e-16]\n",
      "--- mu2,mu3,... =[-5.33560569]\n",
      "--- V = 0.6222222222222222 --- \n",
      "[0.1001495727831836]\n",
      "[0.1001495727831836]\n",
      "[0.1001495727831836]\n",
      "[0.10014978183605061]\n",
      "[-0.0020636651612802037]\n",
      "[0.00022877645466068408]\n",
      "[6.652046509181275e-07]\n",
      "[-2.1461765697949886e-10]\n",
      "[8.881784197001252e-16]\n",
      "[8.881784197001252e-16]\n",
      "[-2.1461765697949886e-10]\n",
      "[2.3805772064733333e-07]\n",
      "[8.881784197001252e-16]\n",
      "[4.744871162642994e-11]\n",
      "[8.881784197001252e-16]\n",
      "[1.1863399151934573e-11]\n",
      "[8.881784197001252e-16]\n",
      "[2.964739564959018e-12]\n",
      "[8.881784197001252e-16]\n",
      "[7.420730696594546e-13]\n",
      "--- mu2,mu3,... =[-5.33714716]\n",
      "--- V = 0.7466666666666667 --- \n",
      "[0.10937857694637931]\n",
      "[0.10937857694637931]\n",
      "[0.10937857694637931]\n",
      "[0.10937878599924633]\n",
      "[-0.0034889389590417874]\n",
      "[0.00045075360207968984]\n",
      "[2.1236854137463013e-06]\n",
      "[-1.312174147116707e-09]\n",
      "[3.3306690738754696e-15]\n",
      "[6.661338147750939e-16]\n",
      "--- mu2,mu3,... =[-5.34019065]\n",
      "--- V = 0.8711111111111112 --- \n",
      "[0.11884613213595929]\n",
      "[0.11884613213595929]\n",
      "[0.11884613213595929]\n",
      "[0.11884634118882631]\n",
      "[-0.005203553943110117]\n",
      "[0.0006927168745860524]\n",
      "[-3.0794037411130404e-06]\n",
      "[2.507882568281161e-09]\n",
      "[8.43769498715119e-15]\n",
      "[0.0]\n",
      "--- mu2,mu3,... =[-5.34323473]\n",
      "--- V = 0.9955555555555556 --- \n",
      "[0.13064965839959575]\n",
      "[0.13064965839959575]\n",
      "[0.13064965839959575]\n",
      "[0.13064986745246276]\n",
      "[-0.007570355076779167]\n",
      "[0.0010806981834940999]\n",
      "[9.65263013430473e-06]\n",
      "[-1.3402444265508962e-08]\n",
      "[1.638689184346731e-13]\n",
      "[-2.220446049250313e-16]\n",
      "[-2.220446049250313e-16]\n",
      "--- mu2,mu3,... =[-5.34699437]\n",
      "--- V = 1.12 --- \n",
      "[0.14872204507654962]\n",
      "[0.14872204507654962]\n",
      "[0.14872204507654962]\n",
      "[0.14872225412941664]\n",
      "[-0.011818051765982274]\n",
      "[0.0017462466204554161]\n",
      "[2.6070526530919125e-06]\n",
      "[-1.9914685456257075e-09]\n",
      "[3.552713678800501e-15]\n",
      "[4.440892098500626e-16]\n",
      "--- mu2,mu3,... =[-5.35258161]\n"
     ]
    }
   ],
   "source": [
    "#intial guess for muB's \n",
    "# make i\n",
    "\n",
    "muBs_P_sol_list = []\n",
    "\n",
    "for V in V_list:\n",
    "    \n",
    "    if V == 0:\n",
    "        muBs0_P_list = [ef for i in range(nleads-2)]\n",
    "    if V != 0:\n",
    "        muBs0_P_list = [u0 for i in range(nleads-2)]\n",
    "\n",
    "\n",
    "    print('--- V = {} --- '.format(V))\n",
    "    sol = optimize.root(CalculateCurrentN.currents_B_probe, muBs0_P_list, method='hybr',args = (ef,V,nleads,\n",
    "                                                                            list_tags_transmissions_P,energies,\n",
    "                                                                              syst_Sgeom_P,True) ,tol = 10**-17)\n",
    "    \n",
    "    x_list_sol = sol.x\n",
    "    muBs_P_sol_list.append(x_list_sol)\n",
    "    \n",
    "    print('--- mu2,mu3,... ={}'.format(x_list_sol))\n"
   ]
  },
  {
   "cell_type": "markdown",
   "metadata": {},
   "source": [
    "# $I_{L,R,B}(+m)$"
   ]
  },
  {
   "cell_type": "code",
   "execution_count": 48,
   "metadata": {
    "scrolled": true
   },
   "outputs": [
    {
     "name": "stdout",
     "output_type": "stream",
     "text": [
      "V= 0.0\n",
      "V= 0.12444444444444445\n",
      "V= 0.2488888888888889\n",
      "V= 0.37333333333333335\n",
      "V= 0.4977777777777778\n",
      "V= 0.6222222222222222\n",
      "V= 0.7466666666666667\n",
      "V= 0.8711111111111112\n",
      "V= 0.9955555555555556\n",
      "V= 1.12\n"
     ]
    }
   ],
   "source": [
    "IP_list_0 = []\n",
    "IP_list_1 = []\n",
    "IP_list_2 = []\n",
    "\n",
    "\n",
    "for n in range(len(V_list)):\n",
    "    \n",
    "    # Generate muLs\n",
    "    muB_list = muBs_P_sol_list[n]\n",
    "    V        = V_list[n]\n",
    "    \n",
    "    #Current into lead 0\n",
    "    I0 = CalculateCurrentN.currents_leadi_probe(0,muB_list,ef,V,nleads,\n",
    "                         energies,list_tags_transmissions_P,syst_Sgeom_P,\n",
    "                         print_bool=False)\n",
    "    \n",
    "    IP_list_0.append(I0)\n",
    "    \n",
    "    #Current into lead 1\n",
    "    I1 = CalculateCurrentN.currents_leadi_probe(1,muB_list,ef,V,nleads,\n",
    "                         energies,list_tags_transmissions_P,syst_Sgeom_P,\n",
    "                         print_bool=False)\n",
    "    \n",
    "    IP_list_1.append(I1)\n",
    "    \n",
    "    #Current into lead 2,3,..\n",
    "    IB_list = CalculateCurrentN.currents_B_probe( muB_list, ef,V,nleads,list_tags_transmissions_P,energies,\n",
    "                                                                              syst_Sgeom_P,False)\n",
    "    \n",
    "    IP_list_2.append(IB_list)\n",
    "\n",
    "    print('V= {}'.format(V))"
   ]
  },
  {
   "cell_type": "code",
   "execution_count": 49,
   "metadata": {},
   "outputs": [
    {
     "data": {
      "image/png": "[encoded data removed]",
      "text/plain": [
       "<Figure size 432x288 with 1 Axes>"
      ]
     },
     "metadata": {
      "needs_background": "light"
     },
     "output_type": "display_data"
    },
    {
     "data": {
      "image/png": "[encoded data removed]",
      "text/plain": [
       "<Figure size 432x288 with 1 Axes>"
      ]
     },
     "metadata": {
      "needs_background": "light"
     },
     "output_type": "display_data"
    }
   ],
   "source": [
    "plt.plot(V_list,IP_list_0,label = 'IL')\n",
    "plt.plot(V_list,IP_list_1,label = 'IR')\n",
    "plt.plot(V_list,np.add(IP_list_1,IP_list_0),label = 'IL + IR')\n",
    "plt.legend()\n",
    "\n",
    "plt.show()\n",
    "\n",
    "plt.plot(V_list,IP_list_2,label = 'IB',color = 'red')\n",
    "plt.legend()\n",
    "\n",
    "\n",
    "plt.show()"
   ]
  },
  {
   "cell_type": "markdown",
   "metadata": {},
   "source": [
    "## Save Values"
   ]
  },
  {
   "cell_type": "code",
   "execution_count": 50,
   "metadata": {},
   "outputs": [],
   "source": [
    "# file = open(\"IP_list_0{}nleads_{}B_de{}_t0{}_u0{}_Pos_IH{}_ME1E2{}{}{}.txt\".format(nleads,abs(B),de,t0,u0,attpos,attposM,attposE1,attposE2 ),'w')\n",
    "# np.savetxt(file,IP_list_0 )\n",
    "# file.close()\n",
    "\n",
    "# file = open(\"IP_list_1{}nleads_{}B_de{}_t0{}_u0{}_Pos_IH{}_ME1E2{}{}{}.txt\".format(nleads,abs(B),de,t0,u0,attpos,attposM,attposE1,attposE2 ),'w')\n",
    "# np.savetxt(file,IP_list_1 )\n",
    "# file.close()\n",
    "\n",
    "# file = open(\"IP_list_2{}nleads_{}B_de{}_t0{}_u0{}_Pos_IH{}_ME1E2{}{}{}.txt\".format(nleads,abs(B),de,t0,u0,attpos,attposM,attposE1,attposE2 ),'w')\n",
    "# np.savetxt(file,IP_list_2 )\n",
    "# file.close()"
   ]
  },
  {
   "cell_type": "markdown",
   "metadata": {},
   "source": [
    "# $\\bar{\\mu}_B(m)$"
   ]
  },
  {
   "cell_type": "code",
   "execution_count": 51,
   "metadata": {},
   "outputs": [],
   "source": [
    "# muBbar(m) is the chemical potential of Buttiker probe for negative volatges.\n",
    "\n",
    "# NOTE:\n",
    "# The chemical potential of the left,right lead are swapped and muBbar is calculated for positive voltages\n",
    "# This is equivalent to calculating the chemical potential for negative voltages."
   ]
  },
  {
   "cell_type": "code",
   "execution_count": 52,
   "metadata": {
    "scrolled": true
   },
   "outputs": [
    {
     "name": "stdout",
     "output_type": "stream",
     "text": [
      "--- V = 0.0 --- \n",
      "[-2.886579864025407e-14]\n",
      "[-2.886579864025407e-14]\n",
      "[-2.886579864025407e-14]\n",
      "[2.0905283815153552e-07]\n",
      "[-0.0105736766213127]\n",
      "--- mu2,mu3,... =[-5.3]\n",
      "--- V = 0.12444444444444445 --- \n",
      "[-0.03631505802769808]\n",
      "[-0.03631505802769808]\n",
      "[-0.03631505802769808]\n",
      "[-0.036314834053667866]\n",
      "[-0.002593638391615638]\n",
      "[6.134780323452382e-05]\n",
      "[-1.789617285474776e-07]\n",
      "[-1.247757452915721e-11]\n",
      "[8.881784197001252e-16]\n",
      "--- mu2,mu3,... =[-5.29660156]\n",
      "--- V = 0.2488888888888889 --- \n",
      "[-0.07252413765192811]\n",
      "[-0.07252413765192811]\n",
      "[-0.07252413765192811]\n",
      "[-0.07252391979741613]\n",
      "[-0.0032215749623167866]\n",
      "[5.3033149568948446e-05]\n",
      "[-1.808743785858269e-07]\n",
      "[-1.0312195541928304e-11]\n",
      "[1.7763568394002505e-15]\n",
      "--- mu2,mu3,... =[-5.29802519]\n",
      "--- V = 0.37333333333333335 --- \n",
      "[-0.08241271097759739]\n",
      "[-0.08241271097759739]\n",
      "[-0.08241271097759739]\n",
      "[-0.08241248117979971]\n",
      "[-0.006292638386116822]\n",
      "[-0.00015230004101574046]\n",
      "[8.39183786460751e-07]\n",
      "[-1.1529155408140923e-10]\n",
      "[2.4424906541753444e-15]\n",
      "--- mu2,mu3,... =[-5.30195029]\n",
      "--- V = 0.4977777777777778 --- \n",
      "[-0.0433028192794207]\n",
      "[-0.0433028192794207]\n",
      "[-0.0433028192794207]\n",
      "[-0.04330258432434886]\n",
      "[-0.0022605988350641315]\n",
      "[-9.8888328802893e-05]\n",
      "[-1.716083202207841e-07]\n",
      "[-1.291144968718072e-11]\n",
      "[-1.1102230246251565e-15]\n",
      "--- mu2,mu3,... =[-5.32010831]\n",
      "--- V = 0.6222222222222222 --- \n",
      "[0.03485412424944401]\n",
      "[0.03485412424944401]\n",
      "[0.03485412424944401]\n",
      "[0.034854362307163766]\n",
      "[-0.0013919104920490089]\n",
      "[4.509035518607263e-05]\n",
      "[6.761327786541926e-08]\n",
      "[-3.348432642269472e-12]\n",
      "--- mu2,mu3,... =[-5.34835804]\n",
      "--- V = 0.7466666666666667 --- \n",
      "[0.08394041426082133]\n",
      "[0.08394041426082133]\n",
      "[0.08394041426082133]\n",
      "[0.08394065869451905]\n",
      "[-0.0032489916857010304]\n",
      "[-9.944525174443442e-05]\n",
      "[4.2896788432500443e-07]\n",
      "[-5.4921844849786794e-11]\n",
      "[-2.220446049250313e-16]\n",
      "--- mu2,mu3,... =[-5.36646702]\n",
      "--- V = 0.8711111111111112 --- \n",
      "[0.08594350987908439]\n",
      "[0.08594350987908439]\n",
      "[0.08594350987908439]\n",
      "[0.08594376046155316]\n",
      "[-0.0009636242215911306]\n",
      "[-5.501445658606663e-05]\n",
      "[7.792123613015178e-08]\n",
      "[-6.250333584034706e-12]\n",
      "--- mu2,mu3,... =[-5.37022143]\n",
      "--- V = 0.9955555555555556 --- \n",
      "[0.06923053082260333]\n",
      "[0.06923053082260333]\n",
      "[0.06923053082260333]\n",
      "[0.0692307838786197]\n",
      "[-0.0005876325426168449]\n",
      "[-2.9245915998288297e-05]\n",
      "[2.209544880393821e-08]\n",
      "[-8.268941087408166e-13]\n",
      "--- mu2,mu3,... =[-5.36859902]\n",
      "--- V = 1.12 --- \n",
      "[0.03278960895357663]\n",
      "[0.03278960895357663]\n",
      "[0.03278960895357663]\n",
      "[0.032789870341997984]\n",
      "[0.0004136414395801147]\n",
      "[6.425014078770275e-06]\n",
      "[2.0494645980306814e-09]\n",
      "[9.769962616701378e-15]\n",
      "--- mu2,mu3,... =[-5.36271683]\n"
     ]
    }
   ],
   "source": [
    "# intial guess for muB's \n",
    "# make i\n",
    "\n",
    "mubarBs_P_sol_list = []\n",
    "\n",
    "for n in range(len(V_list)):\n",
    "    \n",
    "    V = V_list[n]\n",
    "    if V == 0:\n",
    "        muBs0_P_list = [muBs_P_sol_list[n]]\n",
    "    if V != 0:\n",
    "        muBs0_P_list = [muBs_P_sol_list[n]]\n",
    "    \n",
    "#     if V == 0:\n",
    "#         muBs0_P_list = [ef]\n",
    "#     if V != 0:\n",
    "#         muBs0_P_list = [ef]\n",
    "\n",
    "\n",
    "    print('--- V = {} --- '.format(V))\n",
    "    solbar = optimize.root(CalculateCurrentN.currents_B_probe, muBs0_P_list, method='hybr',args = (ef,-V,nleads,\n",
    "                                                                            list_tags_transmissions_P,energies,\n",
    "                                                                              syst_Sgeom_P,True) )\n",
    "    \n",
    "    x_list_solbar = solbar.x\n",
    "    mubarBs_P_sol_list.append(x_list_solbar)\n",
    "    \n",
    "    print('--- mu2,mu3,... ={}'.format(x_list_solbar))\n",
    "\n"
   ]
  },
  {
   "cell_type": "markdown",
   "metadata": {},
   "source": [
    "# $\\bar{I}_{L,R,B}(+m)$"
   ]
  },
  {
   "cell_type": "code",
   "execution_count": 53,
   "metadata": {},
   "outputs": [],
   "source": [
    "# The current for negative voltages."
   ]
  },
  {
   "cell_type": "code",
   "execution_count": 54,
   "metadata": {
    "scrolled": true
   },
   "outputs": [
    {
     "name": "stdout",
     "output_type": "stream",
     "text": [
      "V= 0.0\n",
      "V= 0.12444444444444445\n",
      "V= 0.2488888888888889\n",
      "V= 0.37333333333333335\n",
      "V= 0.4977777777777778\n",
      "V= 0.6222222222222222\n",
      "V= 0.7466666666666667\n",
      "V= 0.8711111111111112\n",
      "V= 0.9955555555555556\n",
      "V= 1.12\n"
     ]
    }
   ],
   "source": [
    "IbarP_list_0 = []\n",
    "IbarP_list_1 = []\n",
    "IbarP_list_2 = []\n",
    "\n",
    "\n",
    "for n in range(len(V_list)):\n",
    "    \n",
    "    # Generate muLs\n",
    "    muB_list = mubarBs_P_sol_list[n]\n",
    "    V        = V_list[n]\n",
    "    \n",
    "    #Current into lead 0\n",
    "    I0 = CalculateCurrentN.currents_leadi_probe(0,muB_list,ef,-V,nleads,\n",
    "                         energies,list_tags_transmissions_P,syst_Sgeom_P,\n",
    "                         print_bool=False)\n",
    "    \n",
    "    IbarP_list_0.append(I0)\n",
    "    \n",
    "    #Current into lead 1\n",
    "    I1 = CalculateCurrentN.currents_leadi_probe(1,muB_list,ef,-V,nleads,\n",
    "                         energies,list_tags_transmissions_P,syst_Sgeom_P,\n",
    "                         print_bool=False)\n",
    "    \n",
    "    IbarP_list_1.append(I1)\n",
    "    \n",
    "\n",
    "    #Current into lead 2,3,..\n",
    "    IB_list = CalculateCurrentN.currents_B_probe( muB_list, ef,-V,nleads,list_tags_transmissions_P,energies,\n",
    "                                                                              syst_Sgeom_P,False)\n",
    "    \n",
    "    IbarP_list_2.append(IB_list)\n",
    "\n",
    "    print('V= {}'.format(V))"
   ]
  },
  {
   "cell_type": "code",
   "execution_count": 55,
   "metadata": {},
   "outputs": [
    {
     "data": {
      "image/png": "[encoded data removed]",
      "text/plain": [
       "<Figure size 432x288 with 1 Axes>"
      ]
     },
     "metadata": {
      "needs_background": "light"
     },
     "output_type": "display_data"
    },
    {
     "data": {
      "image/png": "[encoded data removed]",
      "text/plain": [
       "<Figure size 432x288 with 1 Axes>"
      ]
     },
     "metadata": {
      "needs_background": "light"
     },
     "output_type": "display_data"
    }
   ],
   "source": [
    "plt.plot(V_list,IbarP_list_0,label = 'IbarL')\n",
    "plt.plot(V_list,IbarP_list_1,label = 'IbarR')\n",
    "plt.plot(V_list,np.add(IbarP_list_1,IbarP_list_0),label = 'IbarL + IbarR ')\n",
    "\n",
    "\n",
    "plt.legend()\n",
    "\n",
    "plt.show()\n",
    "\n",
    "\n",
    "\n",
    "plt.plot(V_list,IbarP_list_2,label = 'IbarL + IbarR + IbarB',color = 'red')\n",
    "plt.legend()\n",
    "\n",
    "\n",
    "plt.show()"
   ]
  },
  {
   "cell_type": "code",
   "execution_count": 56,
   "metadata": {},
   "outputs": [
    {
     "data": {
      "image/png": "[encoded data removed]",
      "text/plain": [
       "<Figure size 432x288 with 1 Axes>"
      ]
     },
     "metadata": {
      "needs_background": "light"
     },
     "output_type": "display_data"
    }
   ],
   "source": [
    "CalculateCurrentN.plot_transmission_i(0,list_tags_transmissions_M,energies)"
   ]
  },
  {
   "cell_type": "code",
   "execution_count": 57,
   "metadata": {},
   "outputs": [
    {
     "data": {
      "image/png": "[encoded data removed]",
      "text/plain": [
       "<Figure size 432x288 with 1 Axes>"
      ]
     },
     "metadata": {
      "needs_background": "light"
     },
     "output_type": "display_data"
    }
   ],
   "source": [
    "CalculateCurrentN.plot_transmission_i(2,list_tags_transmissions_M,energies)"
   ]
  },
  {
   "cell_type": "markdown",
   "metadata": {},
   "source": [
    "# Negative Magnetization"
   ]
  },
  {
   "cell_type": "markdown",
   "metadata": {},
   "source": [
    "## ${\\mu}_B(-m)$"
   ]
  },
  {
   "cell_type": "code",
   "execution_count": 58,
   "metadata": {},
   "outputs": [],
   "source": [
    "# muB(-m) is a voltage dependent quantity.\n",
    "# muB(-m) is the chemical potential of Buttiker probe for positive volatges."
   ]
  },
  {
   "cell_type": "code",
   "execution_count": 59,
   "metadata": {
    "scrolled": true
   },
   "outputs": [
    {
     "name": "stdout",
     "output_type": "stream",
     "text": [
      "--- V = 0.0 --- \n",
      "[2.930988785010413e-14]\n",
      "[2.930988785010413e-14]\n",
      "[2.930988785010413e-14]\n",
      "[2.0905289699335583e-07]\n",
      "[-0.01057367662128117]\n",
      "--- mu2,mu3,... =[-5.3]\n",
      "--- V = 0.12444444444444445 --- \n",
      "[0.027212160398256025]\n",
      "[0.027212160398256025]\n",
      "[0.027212160398256025]\n",
      "[0.027212369451123708]\n",
      "[0.0002993158683326502]\n",
      "[-1.9896132298580227e-05]\n",
      "[2.428361207673646e-07]\n",
      "[2.628166573259705e-10]\n",
      "[-4.440892098500626e-15]\n",
      "[1.1102230246251565e-15]\n",
      "--- mu2,mu3,... =[-5.31038752]\n",
      "--- V = 0.2488888888888889 --- \n",
      "[0.06725736661697712]\n",
      "[0.06725736661697712]\n",
      "[0.06725736661697712]\n",
      "[0.0672575756698448]\n",
      "[0.0006555298449599789]\n",
      "[-3.054064062313344e-05]\n",
      "[2.065521798044756e-08]\n",
      "[6.532552276894421e-13]\n",
      "[-2.220446049250313e-16]\n",
      "[-2.220446049250313e-16]\n",
      "[-6.541434061091422e-13]\n",
      "[2.1784875370300938e-07]\n",
      "[-2.220446049250313e-16]\n",
      "--- mu2,mu3,... =[-5.3256475]\n",
      "--- V = 0.37333333333333335 --- \n",
      "[0.08754863237198429]\n",
      "[0.08754863237198429]\n",
      "[0.08754863237198429]\n",
      "[0.08754884142485198]\n",
      "[-0.000610720696214262]\n",
      "[5.2338769259696605e-05]\n",
      "[4.2693207191746296e-08]\n",
      "[-2.992051051364797e-12]\n",
      "[4.440892098500626e-16]\n",
      "[4.440892098500626e-16]\n",
      "[2.994049452809122e-12]\n",
      "[2.2979759428665147e-07]\n",
      "[4.440892098500626e-16]\n",
      "[6.87894186057747e-13]\n",
      "[4.440892098500626e-16]\n",
      "--- mu2,mu3,... =[-5.33286317]\n",
      "--- V = 0.4977777777777778 --- \n",
      "[0.095629631603523]\n",
      "[0.095629631603523]\n",
      "[0.095629631603523]\n",
      "[0.09562984065639069]\n",
      "[-0.0014794103615578535]\n",
      "[0.0001503407611960217]\n",
      "[3.0839354869804936e-07]\n",
      "[-6.41997566219743e-11]\n",
      "[-6.661338147750939e-16]\n",
      "[-6.661338147750939e-16]\n",
      "[6.419820230973983e-11]\n",
      "[2.349980452454048e-07]\n",
      "[-6.661338147750939e-16]\n",
      "[-1.4373613410612052e-11]\n",
      "[-6.661338147750939e-16]\n",
      "[3.5922376184771565e-12]\n",
      "[-6.661338147750939e-16]\n",
      "[-8.990586053414518e-13]\n",
      "[-6.661338147750939e-16]\n",
      "--- mu2,mu3,... =[-5.33562753]\n",
      "--- V = 0.6222222222222222 --- \n",
      "[0.10037888667563744]\n",
      "[0.10037888667563744]\n",
      "[0.10037888667563744]\n",
      "[0.10037909572850512]\n",
      "[-0.0020952751590912477]\n",
      "[0.00023326647136756584]\n",
      "[6.888304520114019e-07]\n",
      "[-2.2670443300398802e-10]\n",
      "[1.3322676295501878e-15]\n",
      "[-6.661338147750939e-16]\n",
      "[-6.661338147750939e-16]\n",
      "[-2.2670620936082742e-10]\n",
      "[2.3821518180255907e-07]\n",
      "[-6.661338147750939e-16]\n",
      "[-5.008771175596394e-11]\n",
      "[-6.661338147750939e-16]\n",
      "[-1.2523981851586541e-11]\n",
      "[-6.661338147750939e-16]\n",
      "[-3.1326052862823417e-12]\n",
      "[-6.661338147750939e-16]\n",
      "[-7.842615445952106e-13]\n",
      "--- mu2,mu3,... =[-5.33722375]\n",
      "--- V = 0.7466666666666667 --- \n",
      "[0.10955094511185703]\n",
      "[0.10955094511185703]\n",
      "[0.10955094511185703]\n",
      "[0.10955115416472472]\n",
      "[-0.003518530640121087]\n",
      "[0.0004557019338973234]\n",
      "[2.1609715985526634e-06]\n",
      "[-1.3477965410402248e-09]\n",
      "[3.1086244689504383e-15]\n",
      "[4.440892098500626e-16]\n",
      "--- mu2,mu3,... =[-5.34024675]\n",
      "--- V = 0.8711111111111112 --- \n",
      "[0.11827410497777002]\n",
      "[0.11827410497777002]\n",
      "[0.11827410497777002]\n",
      "[0.1182743140306377]\n",
      "[-0.005102267342516731]\n",
      "[0.0006877125361108849]\n",
      "[-1.5383206757313417e-06]\n",
      "[1.2611820476848834e-09]\n",
      "[2.886579864025407e-15]\n",
      "[2.220446049250313e-16]\n",
      "--- mu2,mu3,... =[-5.34305285]\n",
      "--- V = 0.9955555555555556 --- \n",
      "[0.12767074456921956]\n",
      "[0.12767074456921956]\n",
      "[0.12767074456921956]\n",
      "[0.12767095362208725]\n",
      "[-0.006927230728440037]\n",
      "[0.0009551723097982467]\n",
      "[8.577702447665203e-06]\n",
      "[-1.1320619774934926e-08]\n",
      "[1.3322676295501878e-13]\n",
      "[0.0]\n",
      "--- mu2,mu3,... =[-5.34605278]\n",
      "--- V = 1.12 --- \n",
      "[0.14464410101684155]\n",
      "[0.14464410101684155]\n",
      "[0.14464410101684155]\n",
      "[0.14464431006970924]\n",
      "[-0.010848716367398259]\n",
      "[0.001641560040725798]\n",
      "[8.15664937259264e-06]\n",
      "[-8.806171569730736e-09]\n",
      "[4.596323321948148e-14]\n",
      "[-4.440892098500626e-16]\n",
      "[-4.440892098500626e-16]\n",
      "--- mu2,mu3,... =[-5.35133484]\n"
     ]
    }
   ],
   "source": [
    "\n",
    "# list for solutions\n",
    "muBs_M_sol_list = []\n",
    "\n",
    "for V in V_list:\n",
    "    \n",
    "    #intial guess for muB's \n",
    "    if V == 0:\n",
    "        muBs0_M_list = [ef for i in range(nleads-2)]\n",
    "    if V != 0:\n",
    "        muBs0_M_list = [ u0 for i in range(nleads-2)]\n",
    "        \n",
    "        \n",
    "    print('--- V = {} --- '.format(V))\n",
    "    sol = optimize.root(CalculateCurrentN.currents_B_probe, muBs0_M_list, method='hybr',args = (ef,V,nleads,\n",
    "                                                                            list_tags_transmissions_M,energies,\n",
    "                                                                              syst_Sgeom_M,True) ,tol = 10**-17)\n",
    "    \n",
    "    x_list_sol = sol.x\n",
    "    muBs_M_sol_list.append(x_list_sol)\n",
    "    \n",
    "    print('--- mu2,mu3,... ={}'.format(x_list_sol))\n"
   ]
  },
  {
   "cell_type": "markdown",
   "metadata": {},
   "source": [
    "## $\\bar{\\mu}_B(-m)$"
   ]
  },
  {
   "cell_type": "code",
   "execution_count": 60,
   "metadata": {
    "scrolled": true
   },
   "outputs": [
    {
     "name": "stdout",
     "output_type": "stream",
     "text": [
      "--- V = 0.0 --- \n",
      "[2.930988785010413e-14]\n",
      "[2.930988785010413e-14]\n",
      "[2.930988785010413e-14]\n",
      "[2.0905289699335583e-07]\n",
      "[-0.01057367662128117]\n",
      "--- mu2,mu3,... =[-5.3]\n",
      "--- V = 0.12444444444444445 --- \n",
      "[-0.036267535872932744]\n",
      "[-0.036267535872932744]\n",
      "[-0.036267535872932744]\n",
      "[-0.03626731248934534]\n",
      "[-0.00250156354952491]\n",
      "[5.9311323600930166e-05]\n",
      "[-1.6688295456646074e-07]\n",
      "[-1.1250111953131636e-11]\n",
      "[3.1086244689504383e-15]\n",
      "--- mu2,mu3,... =[-5.29661037]\n",
      "--- V = 0.2488888888888889 --- \n",
      "[-0.0724994466057034]\n",
      "[-0.0724994466057034]\n",
      "[-0.0724994466057034]\n",
      "[-0.07249922875694947]\n",
      "[-0.0032193841256824562]\n",
      "[5.295168548835605e-05]\n",
      "[-1.804400668881101e-07]\n",
      "[-1.0250467141759145e-11]\n",
      "[-8.881784197001252e-15]\n",
      "--- mu2,mu3,... =[-5.2980298]\n",
      "--- V = 0.37333333333333335 --- \n",
      "[-0.08241205845781363]\n",
      "[-0.08241205845781363]\n",
      "[-0.08241205845781363]\n",
      "[-0.08241182866021979]\n",
      "[-0.006292540677483638]\n",
      "[-0.00015229914940229072]\n",
      "[8.391619101821846e-07]\n",
      "[-1.1528933363535998e-10]\n",
      "[-3.1086244689504383e-15]\n",
      "--- mu2,mu3,... =[-5.30195041]\n",
      "--- V = 0.4977777777777778 --- \n",
      "[-0.04343193399851586]\n",
      "[-0.04343193399851586]\n",
      "[-0.04343193399851586]\n",
      "[-0.04343169900046995]\n",
      "[-0.002273593220708303]\n",
      "[-9.970872288622701e-05]\n",
      "[-1.738839361387079e-07]\n",
      "[-1.3176570945461208e-11]\n",
      "[-1.1102230246251565e-15]\n",
      "--- mu2,mu3,... =[-5.32008416]\n",
      "--- V = 0.6222222222222222 --- \n",
      "[0.034395496464630915]\n",
      "[0.034395496464630915]\n",
      "[0.034395496464630915]\n",
      "[0.03439573467981338]\n",
      "[-0.0013507327812471992]\n",
      "[4.3001421860644484e-05]\n",
      "[6.318540957117591e-08]\n",
      "[-3.013145288832675e-12]\n",
      "--- mu2,mu3,... =[-5.34828656]\n",
      "--- V = 0.7466666666666667 --- \n",
      "[0.08359567792996692]\n",
      "[0.08359567792996692]\n",
      "[0.08359567792996692]\n",
      "[0.08359592248147263]\n",
      "[-0.0032089413855975746]\n",
      "[-9.71141169341383e-05]\n",
      "[4.117894454314097e-07]\n",
      "[-5.12450082368332e-11]\n",
      "[-1.3322676295501878e-15]\n",
      "--- mu2,mu3,... =[-5.36641155]\n",
      "--- V = 0.8711111111111112 --- \n",
      "[0.08708756419556307]\n",
      "[0.08708756419556307]\n",
      "[0.08708756419556307]\n",
      "[0.08708781443241165]\n",
      "[-0.0010469805504595975]\n",
      "[-6.104087484337661e-05]\n",
      "[9.5170598068961e-08]\n",
      "[-8.57847126667366e-12]\n",
      "--- mu2,mu3,... =[-5.37041193]\n",
      "--- V = 0.9955555555555556 --- \n",
      "[0.07518835848345518]\n",
      "[0.07518835848345518]\n",
      "[0.07518835848345518]\n",
      "[0.07518860951000894]\n",
      "[-0.001004001837007662]\n",
      "[-5.5280652016653775e-05]\n",
      "[7.797333911874205e-08]\n",
      "[-5.998979091259571e-12]\n",
      "--- mu2,mu3,... =[-5.36958083]\n",
      "--- V = 1.12 --- \n",
      "[0.04094549707308914]\n",
      "[0.04094549707308914]\n",
      "[0.04094549707308914]\n",
      "[0.04094575730056049]\n",
      "[0.0003798562109806891]\n",
      "[8.237332569160927e-06]\n",
      "[3.031591200297612e-09]\n",
      "[2.375877272697835e-14]\n",
      "--- mu2,mu3,... =[-5.36400179]\n"
     ]
    }
   ],
   "source": [
    "# list for solutions\n",
    "mubarBs_M_sol_list = []\n",
    "\n",
    "for n in range(len(V_list)):\n",
    "    \n",
    "    V = V_list[n]\n",
    "    \n",
    "#       intial guess for muB's \n",
    "    if V == 0:\n",
    "        muBs0_M_list = [muBs_M_sol_list[n]]\n",
    "    if V != 0:\n",
    "        muBs0_M_list = [muBs_M_sol_list[n]]\n",
    "    \n",
    "    #intial guess for muB's \n",
    "#     if V == 0:\n",
    "#         muBs0_M_list = [ef]\n",
    "#     if V != 0:\n",
    "#         muBs0_M_list = [ef]\n",
    "        \n",
    "        \n",
    "    print('--- V = {} --- '.format(V))\n",
    "    sol = optimize.root(CalculateCurrentN.currents_B_probe, muBs0_M_list, method='hybr',args = (ef,-V,nleads,\n",
    "                                                                            list_tags_transmissions_M,energies,\n",
    "                                                                              syst_Sgeom_M,True) )\n",
    "    \n",
    "    x_list_sol = sol.x\n",
    "    mubarBs_M_sol_list.append(x_list_sol)\n",
    "    \n",
    "    print('--- mu2,mu3,... ={}'.format(x_list_sol))"
   ]
  },
  {
   "cell_type": "markdown",
   "metadata": {},
   "source": [
    "# $I_{L,R,B}(-m)$"
   ]
  },
  {
   "cell_type": "code",
   "execution_count": null,
   "metadata": {
    "scrolled": true
   },
   "outputs": [
    {
     "name": "stdout",
     "output_type": "stream",
     "text": [
      "V= 0.0\n",
      "V= 0.12444444444444445\n",
      "V= 0.2488888888888889\n",
      "V= 0.37333333333333335\n",
      "V= 0.4977777777777778\n",
      "V= 0.6222222222222222\n",
      "V= 0.7466666666666667\n"
     ]
    }
   ],
   "source": [
    "IM_list_0 = []\n",
    "IM_list_1 = []\n",
    "IM_list_2 = []\n",
    "\n",
    "\n",
    "for n in range(len(V_list)):\n",
    "    \n",
    "    # Generate muLs\n",
    "    muB_list = muBs_M_sol_list[n]\n",
    "    V        = V_list[n]\n",
    "    \n",
    "    #Current into lead 0\n",
    "    I0 = CalculateCurrentN.currents_leadi_probe(0,muB_list,ef,V,nleads,\n",
    "                         energies,list_tags_transmissions_M,syst_Sgeom_M,\n",
    "                         print_bool=False)\n",
    "    \n",
    "    IM_list_0.append(I0)\n",
    "    \n",
    "    #Current into lead 1\n",
    "    I1 = CalculateCurrentN.currents_leadi_probe(1,muB_list,ef,V,nleads,\n",
    "                         energies,list_tags_transmissions_M,syst_Sgeom_M,\n",
    "                         print_bool=False)\n",
    "    \n",
    "    IM_list_1.append(I1)\n",
    "    \n",
    "\n",
    "\n",
    "    #Current into lead 2,3,..,nleads-2\n",
    "    IB_list = CalculateCurrentN.currents_B_probe( muB_list, ef,V,nleads,list_tags_transmissions_M,energies,\n",
    "                                                                              syst_Sgeom_M,False)\n",
    "    \n",
    "    IM_list_2.append(IB_list)\n",
    "\n",
    "    print('V= {}'.format(V))"
   ]
  },
  {
   "cell_type": "code",
   "execution_count": null,
   "metadata": {},
   "outputs": [],
   "source": [
    "plt.plot(V_list,IM_list_0)\n",
    "plt.plot(V_list,IM_list_1)\n",
    "\n",
    "plt.plot(V_list,IM_list_2)\n",
    "plt.show()\n",
    "\n"
   ]
  },
  {
   "cell_type": "markdown",
   "metadata": {},
   "source": [
    "# $\\bar{I}_{L,R,B}(-m)$"
   ]
  },
  {
   "cell_type": "code",
   "execution_count": null,
   "metadata": {
    "scrolled": true
   },
   "outputs": [],
   "source": [
    "IbarM_list_0 = []\n",
    "IbarM_list_1 = []\n",
    "IbarM_list_2 = []\n",
    "\n",
    "\n",
    "for n in range(len(V_list)):\n",
    "    \n",
    "    # Generate muLs\n",
    "    muB_list = mubarBs_M_sol_list[n]\n",
    "    V        = V_list[n]\n",
    "    \n",
    "    #Current into lead 0\n",
    "    I0 = CalculateCurrentN.currents_leadi_probe(0,muB_list,ef,-V,nleads,\n",
    "                         energies,list_tags_transmissions_M,syst_Sgeom_M,\n",
    "                         print_bool=False)\n",
    "    \n",
    "    IbarM_list_0.append(I0)\n",
    "    \n",
    "    #Current into lead 0\n",
    "    I1 = CalculateCurrentN.currents_leadi_probe(1,muB_list,ef,-V,nleads,\n",
    "                         energies,list_tags_transmissions_M,syst_Sgeom_M,\n",
    "                         print_bool=False)\n",
    "    \n",
    "    IbarM_list_1.append(I1)\n",
    "    \n",
    "\n",
    "    #Current into lead 2,3,..\n",
    "    IB_list = CalculateCurrentN.currents_B_probe( muB_list, ef,-V,nleads,list_tags_transmissions_M,energies,\n",
    "                                                                              syst_Sgeom_M,False)\n",
    "    \n",
    "    IbarM_list_2.append(IB_list)\n",
    "\n",
    "    print('V= {}'.format(V))"
   ]
  },
  {
   "cell_type": "markdown",
   "metadata": {},
   "source": [
    "# D(m),R(m)"
   ]
  },
  {
   "cell_type": "code",
   "execution_count": null,
   "metadata": {},
   "outputs": [],
   "source": [
    "RP_list = np.add(IP_list_0,IbarP_list_0)\n",
    "\n",
    "DP_list = np.subtract(IP_list_0,IbarP_list_0)"
   ]
  },
  {
   "cell_type": "code",
   "execution_count": null,
   "metadata": {},
   "outputs": [],
   "source": [
    "plt.plot(V_list,RP_list,label =' R(m)')\n",
    "plt.legend()\n",
    "\n",
    "plt.xlabel('Voltage ')\n",
    "plt.ylabel('Current[a.u]')\n",
    "\n",
    "\n",
    "plt.show()\n",
    "\n",
    "\n",
    "plt.plot(V_list,DP_list,label ='D(m)')\n",
    "plt.legend()\n",
    "plt.xlabel('Voltage ')\n",
    "plt.ylabel('Current[a.u]')\n",
    "\n",
    "\n",
    "\n",
    "plt.show()\n",
    "\n"
   ]
  },
  {
   "cell_type": "markdown",
   "metadata": {},
   "source": [
    "# R(-m),D(-m)"
   ]
  },
  {
   "cell_type": "code",
   "execution_count": null,
   "metadata": {},
   "outputs": [],
   "source": [
    "RM_list = np.add(IM_list_0,IbarM_list_0)\n",
    "\n",
    "DM_list = np.subtract(IM_list_0,IbarM_list_0)"
   ]
  },
  {
   "cell_type": "code",
   "execution_count": null,
   "metadata": {},
   "outputs": [],
   "source": [
    "plt.plot(V_list,RM_list,label ='R(-m)')\n",
    "plt.legend()\n",
    "plt.xlabel('Voltage ')\n",
    "plt.ylabel('Current[a.u]')\n",
    "\n",
    "\n",
    "\n",
    "plt.show()\n",
    "\n",
    "\n",
    "plt.plot(V_list,DM_list,label ='D(-m)')\n",
    "plt.legend()\n",
    "plt.xlabel('Voltage ')\n",
    "plt.ylabel('Current[a.u]')\n",
    "\n",
    "plt.show()\n",
    "\n"
   ]
  },
  {
   "cell_type": "markdown",
   "metadata": {},
   "source": [
    "# MR"
   ]
  },
  {
   "cell_type": "code",
   "execution_count": null,
   "metadata": {},
   "outputs": [],
   "source": [
    "overlap_list, V_list_adjusted =   index_list_adjusted(IP_list_2,IM_list_2,V_list,nacc=7,plot_current=True  )"
   ]
  },
  {
   "cell_type": "code",
   "execution_count": null,
   "metadata": {},
   "outputs": [],
   "source": [
    "plt.plot(V_list,IM_list_0,label = 'I(-m)')\n",
    "plt.plot(V_list,IP_list_0,label = 'I(m)')\n",
    "plt.legend()\n",
    "plt.xlabel('Voltage ')\n",
    "plt.ylabel('Current[a.u]')\n",
    "\n",
    "plt.show()"
   ]
  },
  {
   "cell_type": "code",
   "execution_count": null,
   "metadata": {},
   "outputs": [],
   "source": [
    "dIList = np.subtract(IP_list_0,IM_list_0)"
   ]
  },
  {
   "cell_type": "code",
   "execution_count": null,
   "metadata": {},
   "outputs": [],
   "source": [
    "\n",
    "\n",
    "plt.plot(V_list,dIList,label='DeltaI(m): total',color='orange')\n",
    "\n",
    "plt.plot(V_list,np.multiply(0.5,np.subtract(DP_list,DM_list)),label='DeltaI(m): odd',color='red')\n",
    "\n",
    "plt.plot(V_list,np.multiply(0.5,np.subtract(RP_list,RM_list)),label='DeltaI(m): even', color = 'green')\n",
    "\n",
    "\n",
    "# plt.plot(V_list,RP_list,label='R(m)')\n",
    "# plt.plot(V_list,RM_list,label='R(-m)')\n",
    "\n",
    "\n",
    "\n",
    "\n",
    "\n",
    "# Plot labels\n",
    "plt.xlabel('Voltage ')\n",
    "plt.ylabel('Charged Current ')\n",
    "plt.legend()\n",
    "\n",
    "\n",
    "plt.show()\n",
    "\n"
   ]
  },
  {
   "cell_type": "code",
   "execution_count": null,
   "metadata": {},
   "outputs": [],
   "source": [
    "MR_list = calc_MR_list(IP_list_0,IM_list_0,V_list,n=12)"
   ]
  },
  {
   "cell_type": "code",
   "execution_count": null,
   "metadata": {},
   "outputs": [],
   "source": [
    "fig = plt.figure(figsize = (15,4.5))\n",
    "\n",
    "axes1 = fig.add_subplot(1,2,1)\n",
    "axes2 = fig.add_subplot(1,2,2)\n",
    "\n",
    "\n",
    "axes1.set_title('|B| = {} , t0 = {}, u0={}, [I = {}, M = {} ,E1 = {} , E2 = {}]'.format(abs(B),t0,u0,\n",
    "                           attpos,attposM   ,attposE1 , attposE2 ))\n",
    "axes2.set_title('|B| = {} , t0 = {}, u0={}, [I = {}, M = {} ,E1 = {} , E2 = {}]'.format(abs(B),t0,u0,\n",
    "                           attpos,attposM   ,attposE1 , attposE2 ) )\n",
    "\n",
    "\n",
    "axes1.plot(V_list,IM_list_0,color='blue',label = 'I(-m)')\n",
    "axes1.plot(V_list,IP_list_0,color='orange',label = 'I(m)')\n",
    "axes1.legend()\n",
    "\n",
    "\n",
    "\n",
    "\n",
    "axes2.plot(V_list,MR_list,label ='MR',color='red')\n",
    "axes2.legend()\n",
    "\n",
    "\n",
    "# axes2.plot(np.min(data,axis=0),'-o',color='red')\n",
    "\n",
    "\n",
    "all_axes = fig.get_axes()\n",
    "    \n",
    "for ax in all_axes:\n",
    "    ax.set_xlabel(\"Voltage\")\n",
    "\n",
    "\n",
    "axes1.set_ylabel('[Charge Current]')\n",
    "axes2.set_ylabel('MR [%]')\n",
    "\n",
    "\n",
    "fig.tight_layout()\n",
    "\n",
    "\n",
    "\n",
    "\n",
    "plt.show()"
   ]
  },
  {
   "cell_type": "code",
   "execution_count": null,
   "metadata": {},
   "outputs": [],
   "source": []
  },
  {
   "cell_type": "code",
   "execution_count": null,
   "metadata": {},
   "outputs": [],
   "source": []
  }
 ],
 "metadata": {
  "kernelspec": {
   "display_name": "Python 3",
   "language": "python",
   "name": "python3"
  },
  "language_info": {
   "codemirror_mode": {
    "name": "ipython",
    "version": 3
   },
   "file_extension": ".py",
   "mimetype": "text/x-python",
   "name": "python",
   "nbconvert_exporter": "python",
   "pygments_lexer": "ipython3",
   "version": "3.7.4"
  },
  "widgets": {
   "application/vnd.jupyter.widget-state+json": {
    "state": {},
    "version_major": 2,
    "version_minor": 0
   }
  }
 },
 "nbformat": 4,
 "nbformat_minor": 4
}
